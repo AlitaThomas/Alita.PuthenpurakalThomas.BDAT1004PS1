{
 "cells": [
  {
   "cell_type": "markdown",
   "metadata": {},
   "source": [
    "### Question 1\n",
    "What data type is each of the following?"
   ]
  },
  {
   "cell_type": "markdown",
   "metadata": {},
   "source": [
    "| Value | Data Type  |\n",
    "|------ |------|\n",
    "|  5    | Number(Integer)|\n",
    "| 5.0 | Number(Float)|\n",
    "|5>1| Boolean Expression (Comparison Operator)|\n",
    "|   '5' | String|\n",
    "| 5 * 2 | Arithmetic Expression(Multiplication)  |\n",
    "|'5' * 2|String Operator( Concatenation of 2 copies of '5')  |\n",
    "| '5' + '2' |String Operator ( Concatenation of two strings)  |\n",
    "| 5/2 | Arithmetic Expression(Arithmetic Operator-Division)  |\n",
    "|5//2 |Arithmetic Expression(Arithmetic Operator-Quotient) |\n",
    "|[5,2,1] | List   |\n",
    "|5 in [1, 4, 6]| List Operator (Checking if 5 is in the list) |\n",
    "|math.pi|math is a module for calculations |"
   ]
  },
  {
   "cell_type": "markdown",
   "metadata": {},
   "source": [
    "### Question 2\n",
    "Write (and evaluate) Python expressions that answer these questions:"
   ]
  },
  {
   "cell_type": "markdown",
   "metadata": {},
   "source": [
    "a. How many letters are there in 'Supercalifragilisticexpialidocious'?"
   ]
  },
  {
   "cell_type": "code",
   "execution_count": 2,
   "metadata": {},
   "outputs": [
    {
     "name": "stdout",
     "output_type": "stream",
     "text": [
      "33\n"
     ]
    }
   ],
   "source": [
    "s=\"Supercalifragilsticexpialidocious\"\n",
    "print( len(s) )"
   ]
  },
  {
   "cell_type": "markdown",
   "metadata": {},
   "source": [
    "b. Does 'Supercalifragilisticexpialidocious' contain 'ice' as a substring?"
   ]
  },
  {
   "cell_type": "code",
   "execution_count": 3,
   "metadata": {},
   "outputs": [
    {
     "name": "stdout",
     "output_type": "stream",
     "text": [
      "True\n"
     ]
    }
   ],
   "source": [
    "s='ice' in 'Supercalifragilsticexpialidocious'\n",
    "print(s)"
   ]
  },
  {
   "cell_type": "markdown",
   "metadata": {},
   "source": [
    "c. Which of the following words is the longest: Supercalifragilisticexpialidocious, Honorificabilitudinitatibus, or Bababadalgharaghtakamminarronnkonn?"
   ]
  },
  {
   "cell_type": "code",
   "execution_count": 4,
   "metadata": {},
   "outputs": [
    {
     "name": "stdout",
     "output_type": "stream",
     "text": [
      " Supercalifragilisticexpialidocious\n"
     ]
    }
   ],
   "source": [
    "s= [' Supercalifragilisticexpialidocious','Honorificabilitudinitatibus','Bababadalgharaghtakamminarronnkonn']\n",
    "longest_string = max(s, key=len)\n",
    "print(longest_string)"
   ]
  },
  {
   "cell_type": "markdown",
   "metadata": {},
   "source": [
    "d. Which composer comes first in the dictionary: 'Berlioz', 'Borodin', 'Brian', 'Bartok', 'Bellini', 'Buxtehude', 'Bernstein'. Which one comes last?"
   ]
  },
  {
   "cell_type": "code",
   "execution_count": 5,
   "metadata": {},
   "outputs": [
    {
     "name": "stdout",
     "output_type": "stream",
     "text": [
      "Bartok\n",
      "Buxtehude\n"
     ]
    }
   ],
   "source": [
    "composers= [ 'Berlioz', 'Borodin', 'Brian','Bartok', 'Bellini', 'Buxtehude', 'Bernstein']\n",
    "print(min(composers))\n",
    "print (max(composers))"
   ]
  },
  {
   "cell_type": "markdown",
   "metadata": {},
   "source": [
    "### Question 3\n",
    "a. Write a function inside(x,y,x1,y1,x2,y2) that returns True or False\n",
    "depending on whether the point (x,y) lies in the rectangle with lower left\n",
    "corner (x1,y1) and upper right corner (x2,y2).\n",
    "\n"
   ]
  },
  {
   "cell_type": "code",
   "execution_count": 6,
   "metadata": {},
   "outputs": [
    {
     "name": "stdout",
     "output_type": "stream",
     "text": [
      "Enter the lower left X coordinates of the point to be found >> x    1\n",
      "Enter the lower left X coordinates  of the point to be found >> y   1\n",
      "Enter the lower left X coordinates >> x1   0\n",
      "Enter the lower left X coordinates >> y1   0\n",
      "Enter the lower left X coordinates >> x2   2\n",
      "Enter the lower left X coordinates >> y2   3\n",
      "Yes inside rectangle\n"
     ]
    }
   ],
   "source": [
    "def inside(x, y, x1,\n",
    "y1, x2, y2) :\n",
    "    if (x > x1 and x < x2 and\n",
    "    y > y1 and y < y2) :\n",
    "        return True\n",
    "    else :\n",
    "        return False\n",
    "\n",
    "x = float(input(\"Enter the lower left X coordinates of the point to be found >> x    \"))\n",
    "y = float(input(\"Enter the lower left X coordinates  of the point to be found >> y   \"))\n",
    "x1 = float(input(\"Enter the lower left X coordinates >> x1   \"))\n",
    "y1 = float(input(\"Enter the lower left X coordinates >> y1   \"))\n",
    "x2 = float(input(\"Enter the lower left X coordinates >> x2   \"))\n",
    "y2 = float(input(\"Enter the lower left X coordinates >> y2   \"))\n",
    "# function call\n",
    "if inside(x, y, x1,\n",
    "y1, x2, y2) :\n",
    "    print(\"Yes inside rectangle\")\n",
    "else :\n",
    "    print(\"Not inside rectangle\") \n"
   ]
  },
  {
   "cell_type": "markdown",
   "metadata": {},
   "source": [
    "b. Use function inside() from part a. to write an expression that tests whether\n",
    "the point (1,1) lies in both of the following rectangles: one with lower left\n",
    "corner (0.3, 0.5) and upper right corner (1.1, 0.7) and the other with lower\n",
    "left corner (0.5, 0.2) and upper right corner (1.1, 2). "
   ]
  },
  {
   "cell_type": "code",
   "execution_count": 20,
   "metadata": {},
   "outputs": [
    {
     "name": "stdout",
     "output_type": "stream",
     "text": [
      " > The point does not lie in both the rectangles \n"
     ]
    }
   ],
   "source": [
    "def inside(x, y, x1,\n",
    "y1, x2, y2) :\n",
    "    if (x > x1 and x < x2 and\n",
    "    y > y1 and y < y2) :\n",
    "        return True\n",
    "    else :\n",
    "        return False\n",
    "'''\n",
    "x = float(input(\"Enter the lower left X coordinates of the point to be found >> x    \"))\n",
    "y = float(input(\"Enter the lower left X coordinates  of the point to be found >> y   \"))\n",
    "x1 = float(input(\"Enter the lower left X coordinates >> x1   \"))\n",
    "y1 = float(input(\"Enter the lower left X coordinates >> y1   \"))\n",
    "y2 = float(input(\"Enter the lower left X coordinates >> x2   \"))\n",
    "y2 = float(input(\"Enter the lower left X coordinates >> y2   \"))\n",
    "# function call\n",
    "if inside(x, y, x1, y1, x2, y2) :\n",
    "    return True\n",
    "else :\n",
    "    return False'''\n",
    "\n",
    "bool_rec1 = inside(1,1,0.3,0.5,1.1,0.7)\n",
    "bool_rec2 = inside(1,1,0.5,0.2,1.1,2)\n",
    "if bool_rec2 == True and bool_rec1 == True:\n",
    "    print(\" > The point lies in both the rectangles \")\n",
    "else:\n",
    "    print(\" > The point does not lie in both the rectangles \")"
   ]
  },
  {
   "cell_type": "markdown",
   "metadata": {},
   "source": [
    "### Question 4\n",
    "You can turn a word into pig-Latin using the following two rules (simplified):\n",
    "• If the word starts with a consonant, move that letter to the end and append\n",
    "'ay'. For example, 'happy' becomes 'appyhay' and 'pencil' becomes 'encilpay'.\n",
    "• If the word starts with a vowel, simply append 'way' to the end of the word.\n",
    "For example, 'enter' becomes 'enterway' and 'other' becomes 'otherway' . For\n",
    "our purposes, there are 5 vowels: a, e, i, o, u (so we count y as a consonant).\n",
    "Write a function pig() that takes a word (i.e., a string) as input and returns its pigLatin form. Your function should still work if the input word contains upper case\n",
    "characters. Your output should always be lower case however.\n"
   ]
  },
  {
   "cell_type": "code",
   "execution_count": 1,
   "metadata": {},
   "outputs": [
    {
     "name": "stdout",
     "output_type": "stream",
     "text": [
      "Enter the word : happy\n",
      "The output is :  appyhay\n"
     ]
    }
   ],
   "source": [
    "def pig(word):\n",
    "    vowels = ['a', 'e', 'i', 'o', 'u', 'A', 'E', 'I', 'O', 'U']\n",
    "    if word[0] in vowels:\n",
    "        word += 'way'\n",
    "        return word.lower()\n",
    "       \n",
    "    else:\n",
    "        word = word[1:] + word[:1] + 'ay'\n",
    "        return word.lower()\n",
    "\n",
    "       \n",
    "out = pig(input(\"Enter the word : \"))\n",
    "print(\"The output is : \", out)"
   ]
  },
  {
   "cell_type": "markdown",
   "metadata": {},
   "source": [
    "### Question 5\n",
    "File bloodtype1.txt records blood-types of patients (A, B, AB, O or OO) at a clinic.\n",
    "Write a function bldcount() that reads the file with name name and reports (i.e.,\n",
    "prints) how many patients there are in each bloodtype."
   ]
  },
  {
   "cell_type": "code",
   "execution_count": 3,
   "metadata": {},
   "outputs": [
    {
     "name": "stdout",
     "output_type": "stream",
     "text": [
      "There are 15 patients of blood type A.\n",
      "There is one patient of blood type B.\n",
      "There are 13 patients of blood type AB.\n",
      "There are 15 patients of blood type O.\n",
      "There are no patients of blood type OO.\n"
     ]
    }
   ],
   "source": [
    "def bldcount(filename):\n",
    "    infile=open(filename, 'r')\n",
    "    content= infile.read()\n",
    "    infile.close()\n",
    "    content=content.split()\n",
    "    bloodtype = ['A','B','AB','O','OO']\n",
    "    for i in bloodtype:\n",
    "        if content.count(i)==0:\n",
    "            print('There are no patients of blood type',i+'.')\n",
    "        elif content.count(i)==1:\n",
    "            print('There is one patient of blood type',i+'.')\n",
    "        else:\n",
    "            print('There are',content.count(i),'patients of blood type', i+'.')\n",
    "bldcount('bloodtype1.txt')"
   ]
  },
  {
   "cell_type": "markdown",
   "metadata": {},
   "source": [
    "### Question 6\n",
    "Write a function curconv() that takes as input:\n",
    "1. a currency represented using a string (e.g., 'JPY' for the Japanese Yen or\n",
    "'EUR' for the Euro)\n",
    "2. an amount\n",
    "and then converts and returns the amount in US dollars.\n"
   ]
  },
  {
   "cell_type": "code",
   "execution_count": 1,
   "metadata": {},
   "outputs": [
    {
     "name": "stdout",
     "output_type": "stream",
     "text": [
      "Enter amount: \n",
      "100\n",
      "Which currency do you want to convert this amount to ? Available options are : \n",
      "\n",
      "AUD\n",
      "CHF\n",
      "CNY\n",
      "DKK\n",
      "EUR\n",
      "GBP\n",
      "HKD\n",
      "INR\n",
      "JPY\n",
      "MXN\n",
      "MYR\n",
      "NOK\n",
      "NZD\n",
      "PHP\n",
      "SEK\n",
      "SGD\n",
      "THB\n",
      "Please enter one of the above values \n",
      "EUR\n",
      "100.0   EUR is equal to  122.96544 dollar\n"
     ]
    }
   ],
   "source": [
    "def curconv(cur, amt):\n",
    "\n",
    "    return amount *float(currencyDict[currency])\n",
    "\n",
    "lines = open(\"currencies.txt\", \"r\") \n",
    "\n",
    "\n",
    "currencyDict = {} \n",
    "\n",
    "for line in lines:\n",
    "\n",
    "    parsed = line.split(\"\\t\")\n",
    "\n",
    "    currencyDict[parsed[0]] = parsed[1]\n",
    "\n",
    " \n",
    "\n",
    "amount = float(input(\"Enter amount: \\n\"))\n",
    "\n",
    "print(\"Which currency do you want to convert this amount to ? Available options are : \\n\")\n",
    "\n",
    "[print(item) for item in currencyDict.keys()]\n",
    "\n",
    "currency = input(\"Please enter one of the above values \\n\");\n",
    "\n",
    "print(amount,\" \", currency, \"is equal to \", curconv(amount,currency), \"dollar\")\n",
    "\n",
    "  "
   ]
  },
  {
   "cell_type": "markdown",
   "metadata": {},
   "source": [
    "### Question 7\n",
    "Each of the following will cause an exception (an error). Identify what type of\n",
    "exception each will cause."
   ]
  },
  {
   "cell_type": "markdown",
   "metadata": {},
   "source": [
    " |  | Error |\n",
    " |------ |------|\n",
    " |  Trying to add incompatible variables, as inadding 6 + ‘a’   |Type Error |\n",
    "| Referring to the 12th item of a list that has only 10 items |Index Error|\n",
    "|Using a value that is out of range for a function’sinput, such as calling math.sqrt(-1.0)|Value Error|\n",
    "|Using an undeclared variable, such as print(x)when x has not been defined |Name Error|\n",
    "|Trying to open a file that does not exist, such asmistyping the file name or looking in the wrongdirectory|File not found|\n",
    "\n"
   ]
  },
  {
   "cell_type": "markdown",
   "metadata": {},
   "source": [
    "### Question 8\n",
    "Encryption is the process of hiding the meaning of a text by substituting letters in the\n",
    "message with other letters, according to some system. If the process is successful, no\n",
    "one but the intended recipient can understand the encrypted message. Cryptanalysis\n",
    "refers to attempts to undo the encryption, even if some details of the encryption are\n",
    "unknown (for example, if an encrypted message has been intercepted). The first step\n",
    "of cryptanalysis is often to build up a table of letter frequencies in the encrypted text.\n",
    "Assume that the string letters is already defined as\n",
    "'abcdefghijklmnopqrstuvwxyz'. Write a function called frequencies()\n",
    "that takes a string as its only parameter, and returns a list of integers, showing the\n",
    "number of times each character appears in the text. Your function may ignore any\n",
    "characters that are not in letters. "
   ]
  },
  {
   "cell_type": "code",
   "execution_count": 1,
   "metadata": {},
   "outputs": [
    {
     "name": "stdout",
     "output_type": "stream",
     "text": [
      "Enter a stringThe quick red fox got bored and went home.\n",
      "String is  The quick red fox got bored and went home.\n",
      "[1, 1, 1, 3, 5, 1, 1, 2, 1, 0, 1, 0, 1, 1, 4, 0, 1, 2, 0, 2, 1, 0, 1, 1, 0, 0]\n"
     ]
    }
   ],
   "source": [
    "def frequencies(str):\n",
    "\n",
    "    count={\"a\" : 0, \"b\" : 0, \"c\" : 0, \"d\" : 0, \"e\" : 0, \"f\" : 0, \"g\" : 0, \"h\" : 0, \"i\" : 0, \"j\" : 0, \"k\" : 0,\n",
    "\n",
    "    \"l\" : 0, \"m\" : 0, \"n \" : 0, \"o\" : 0, \"p\" : 0, \"q\" : 0, \"r\" : 0, \"s\" : 0, \"t\" : 0, \"u\" : 0, \"v\" : 0, \"w\" : 0,\n",
    "\n",
    "    \"x\" : 0, \"y\" : 0, \"z\" : 0}\n",
    "\n",
    "    for x in str:\n",
    "\n",
    "        if x in count.keys():\n",
    "\n",
    "            count[x]+=1\n",
    "\n",
    "        else:\n",
    "\n",
    "            count[x]=0\n",
    "\n",
    " \n",
    "\n",
    "    newlist = list()\n",
    "\n",
    "    for j in letters:\n",
    "\n",
    "        for i in count:\n",
    "\n",
    "            if i ==j:\n",
    "\n",
    "                newlist.append(count[j])\n",
    "\n",
    "    return(newlist)\n",
    "\n",
    " \n",
    "\n",
    "letters = 'abcdefghijklmnopqrstuvwxyz'\n",
    "\n",
    "str=input(\"Enter a string\")\n",
    "\n",
    "print(\"String is \",str)\n",
    "\n",
    "print(frequencies(str)) "
   ]
  },
  {
   "cell_type": "markdown",
   "metadata": {},
   "source": [
    "### Question 9\n",
    "The Sieve of Erastophenes is an algorithm -- known to ancient Greeks -- that finds\n",
    "all prime numbers up to a given number n. It does this by first creating a list L from\n",
    "2 to n and an (initially empty) list primeL. The algorithm then takes the first number\n",
    "in list L (2) and appends it to list primeL, and then removes 2 and all its multiples\n",
    "(4,6,8,10,12, ...) from L. The algorithm then takes the new first number in L (3) and\n",
    "appends it to list primeL, and then removes from L 3 and all its remaining multiples\n",
    "(9,15,21,...). So, in every iteration, the first number of list L is appended to list\n",
    "primeL and then it and its multiples are removed from list L. The iterations stop\n",
    "when list L becomes empty. Write a function sieve() that takes as input a positive\n",
    "integer n, implements the above algorithm, and returns a list of all prime numbers up to n\n",
    " "
   ]
  },
  {
   "cell_type": "code",
   "execution_count": 4,
   "metadata": {},
   "outputs": [
    {
     "name": "stdout",
     "output_type": "stream",
     "text": [
      "Enter a number till which you want to find the prime number :\n",
      "56\n",
      "Prime number till 56 are : [2, 3, 5, 7, 11, 13, 17, 19, 23, 29, 31, 37, 41, 43, 47, 53]\n"
     ]
    }
   ],
   "source": [
    "def sieve(num):\n",
    "\n",
    "    integers = []\n",
    "\n",
    "    primesl = []\n",
    "\n",
    "    for i in range(2,number+1):\n",
    "\n",
    "        integers.append(i)\n",
    "\n",
    "    for j in integers:\n",
    "\n",
    "        primesl.append(j)\n",
    "\n",
    "        k=2;\n",
    "\n",
    "        while(k*j <= number+1):\n",
    "\n",
    "            value = k*j\n",
    "\n",
    "            if value in integers:\n",
    "\n",
    "                integers.remove(value)\n",
    "\n",
    "            k=k+1\n",
    "\n",
    "    return(primesl)\n",
    "\n",
    "   \n",
    "\n",
    "print (\"Enter a number till which you want to find the prime number :\")\n",
    "\n",
    "number = int(input())\n",
    "\n",
    "print(\"Prime number till\",number, \"are :\", sieve(number))\n"
   ]
  },
  {
   "cell_type": "markdown",
   "metadata": {},
   "source": [
    "### Question 10\n",
    "Implement function triangleArea(a,b,c) that takes as input the lengths of the 3\n",
    "sides of a triangle and returns the area of the triangle. By Heron's formula, the area\n",
    "of a triangle with side lengths a, b, and c is\n",
    "s(s - a)(s -b)(s -c)\n",
    ", where\n",
    "s = (a+b+c)/2. "
   ]
  },
  {
   "cell_type": "code",
   "execution_count": 5,
   "metadata": {},
   "outputs": [
    {
     "name": "stdout",
     "output_type": "stream",
     "text": [
      "Enter first side: 2\n",
      "Enter second side: 2\n",
      "Enter third side: 2\n",
      "The area of the triangle is 1.73\n"
     ]
    }
   ],
   "source": [
    "def triangleArea(a,b,c):\n",
    "    s =float((a + b + c) / 2)\n",
    "    area = float((s * (s - a) * (s - b) * (s - c)) ** 0.5)\n",
    "    return area\n",
    "   \n",
    "a = float(input('Enter first side: '))\n",
    "b = float(input('Enter second side: '))\n",
    "c = float(input('Enter third side: '))\n",
    "\n",
    "print('The area of the triangle is %0.2f' % triangleArea(a,b,c))"
   ]
  }
 ],
 "metadata": {
  "kernelspec": {
   "display_name": "Python 3",
   "language": "python",
   "name": "python3"
  },
  "language_info": {
   "codemirror_mode": {
    "name": "ipython",
    "version": 3
   },
   "file_extension": ".py",
   "mimetype": "text/x-python",
   "name": "python",
   "nbconvert_exporter": "python",
   "pygments_lexer": "ipython3",
   "version": "3.7.6"
  }
 },
 "nbformat": 4,
 "nbformat_minor": 4
}
